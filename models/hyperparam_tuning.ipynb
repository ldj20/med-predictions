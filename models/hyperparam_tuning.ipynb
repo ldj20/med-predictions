{
 "cells": [
  {
   "cell_type": "code",
   "execution_count": null,
   "id": "5764a493",
   "metadata": {},
   "outputs": [],
   "source": [
    "import pickle\n",
    "import csv\n",
    "import pandas as pd\n",
    "import matplotlib.pyplot as plt\n",
    "\n",
    "import seaborn as sns\n",
    "sns.set(style='ticks')\n",
    "sns.set_palette(\"tab10\")\n",
    "sns.set_context('paper')\n",
    "from sklearn.metrics import balanced_accuracy_score, roc_auc_score, confusion_matrix\n",
    "\n",
    "from sklearn.ensemble import RandomForestClassifier\n",
    "import imblearn\n",
    "from imblearn.over_sampling import SMOTE\n",
    "from sklearn.model_selection import train_test_split\n",
    "from sklearn.model_selection import GridSearchCV\n",
    "\n",
    "print(sklearn.__version__)"
   ]
  },
  {
   "cell_type": "code",
   "execution_count": null,
   "id": "3ad115a2",
   "metadata": {},
   "outputs": [],
   "source": [
    "# file name structure: p{post-publication year}l{label year}f.csv\n",
    "# names = [“p0l5f.csv”, “p1l5f.csv”, “p2l5f.csv”, “p3l5f.csv”, “p4l5f.csv”, “p5l5f.csv”, “p1l1f.csv”, “p2l2f.csv”, “p3l3f.csv”, “p4l4f.csv”]\n",
    "\n",
    "post_year = 0\n",
    "label_year = 5\n",
    "df = pd.read_csv(f\"p{post_year}l{label_year}f.csv\")\n",
    "\n",
    "sampledf = df.sample(n = 10000, random_state = 2022)"
   ]
  },
  {
   "cell_type": "markdown",
   "id": "84126a71",
   "metadata": {},
   "source": [
    "#### Popping out Target Variable and SMOTE"
   ]
  },
  {
   "cell_type": "code",
   "execution_count": null,
   "id": "2ac412fb",
   "metadata": {},
   "outputs": [],
   "source": [
    "y = sampledf.iloc[:, 0]\n",
    "\n",
    "X = sampledf.drop([\"high_impact\"], axis=1)"
   ]
  },
  {
   "cell_type": "code",
   "execution_count": null,
   "id": "762a0dff",
   "metadata": {},
   "outputs": [],
   "source": [
    "cols = list(X.columns)"
   ]
  },
  {
   "cell_type": "code",
   "execution_count": null,
   "id": "a7979fd2",
   "metadata": {},
   "outputs": [],
   "source": [
    "seed = 2022\n",
    "X_resampled, y_resampled = SMOTE(random_state = seed).fit_resample(X, y)"
   ]
  },
  {
   "cell_type": "markdown",
   "id": "174e440c",
   "metadata": {},
   "source": [
    "#### Train test split"
   ]
  },
  {
   "cell_type": "code",
   "execution_count": null,
   "id": "17e046bd",
   "metadata": {},
   "outputs": [],
   "source": [
    "seed = 2022\n",
    "X_train, X_test, y_train, y_test = train_test_split(X_resampled, y_resampled, test_size = 0.25, random_state = seed)"
   ]
  },
  {
   "cell_type": "markdown",
   "id": "95afe179",
   "metadata": {},
   "source": [
    "#### Evaulation Metrics "
   ]
  },
  {
   "cell_type": "code",
   "execution_count": null,
   "id": "34ade567",
   "metadata": {},
   "outputs": [],
   "source": [
    "def calcMetrics (actual, predicted, threshold):\n",
    "    tp = 0\n",
    "    tn = 0\n",
    "    fp = 0\n",
    "    fn = 0\n",
    "    for i in range(len(predicted)):\n",
    "        if predicted[i] < threshold:\n",
    "            if actual[i] == 0:\n",
    "                tn += 1\n",
    "            else:\n",
    "                fn += 1\n",
    "        else:\n",
    "            if actual[i] == 1:\n",
    "                tp += 1\n",
    "            else:\n",
    "                fp += 1\n",
    "\n",
    "    precision = tp/(tp+fp)\n",
    "    recall = tp/(tp+fn)\n",
    "    f1 = 2 * precision * recall / (precision + recall)\n",
    "    \n",
    "    return tp, fp, fn, tn, precision, recall, f1"
   ]
  },
  {
   "cell_type": "code",
   "execution_count": null,
   "id": "b4c8afdc",
   "metadata": {},
   "outputs": [],
   "source": [
    "def getAccuracy(actual, predicted):\n",
    "    numCorrect = 0\n",
    "    \n",
    "    for i in range(len(actual)):\n",
    "        if predicted[i] == actual[i]:\n",
    "            numCorrect += 1\n",
    "    \n",
    "    return numCorrect/len(actual)"
   ]
  },
  {
   "cell_type": "markdown",
   "id": "e9e1fa7b",
   "metadata": {},
   "source": [
    "In addition to this, we can use balanced accuracy and roc_auc score."
   ]
  },
  {
   "cell_type": "code",
   "execution_count": null,
   "id": "2ffb36be",
   "metadata": {},
   "outputs": [],
   "source": [
    "def runForest(decrease):\n",
    "\n",
    "    kf = KFold(n_splits = 5)\n",
    "    \n",
    "    sumAcc = 0\n",
    "\n",
    "    for train_index, val_index in kf.split(X_train):\n",
    "        X_train_only , X_val = X_train.iloc[train_index,:], X_train.iloc[val_index,:]\n",
    "        y_train_only , y_val = y_train[train_index], y_train[val_index]\n",
    "\n",
    "        model = ensemble.RandomForestClassifier(min_impurity_decrease = decrease, max_depth = depth, criterion = lossfn)\n",
    "\n",
    "        model.fit(X_train_only, y_train_only)\n",
    "        pred_values = model.predict(X_val)\n",
    "        \n",
    "        #print(type(pred_values))\n",
    "        \n",
    "        acc = getAccuracy(pred_values.tolist(), y_val.tolist())\n",
    "        sumAcc += acc\n",
    "\n",
    "    return sumAcc/5"
   ]
  },
  {
   "cell_type": "code",
   "execution_count": null,
   "id": "89acb38c",
   "metadata": {},
   "outputs": [],
   "source": [
    "import time\n",
    "\n",
    "model = RandomForestClassifier()\n",
    "\n",
    "params = [{'max_features': [0.01, \"log2\", 0.05, \"sqrt\", 0.075, .01, .02, .03, .05],\n",
    "         'min_samples_leaf': [1, 3, 5, 10, 30, 50],\n",
    "         'criterion': [\"gini\", \"entropy\"]}]\n",
    "\n",
    "gs_forest = GridSearchCV(model,\n",
    "                      param_grid=params,\n",
    "                      scoring='accuracy',\n",
    "                      cv=10,\n",
    "                      verbose = 2)\n",
    "t0 = time.time()\n",
    "\n",
    "gs_forest.fit(X_train, y_train)\n",
    "\n",
    "t1 = time.time()\n",
    "\n",
    "t1-t0"
   ]
  },
  {
   "cell_type": "code",
   "execution_count": null,
   "id": "e048abb2",
   "metadata": {},
   "outputs": [],
   "source": [
    "gs_forest.best_params_"
   ]
  },
  {
   "cell_type": "code",
   "execution_count": null,
   "id": "1fa9fa45",
   "metadata": {},
   "outputs": [],
   "source": [
    "gs_forest.score(X_train, y_train)"
   ]
  },
  {
   "cell_type": "code",
   "execution_count": null,
   "id": "0b65e7f1",
   "metadata": {},
   "outputs": [],
   "source": [
    "results = pd.DataFrame(gs_forest.cv_results_)\n",
    "results"
   ]
  }
 ],
 "metadata": {
  "kernelspec": {
   "display_name": "Python 3 (ipykernel)",
   "language": "python",
   "name": "python3"
  },
  "language_info": {
   "codemirror_mode": {
    "name": "ipython",
    "version": 3
   },
   "file_extension": ".py",
   "mimetype": "text/x-python",
   "name": "python",
   "nbconvert_exporter": "python",
   "pygments_lexer": "ipython3",
   "version": "3.9.7"
  }
 },
 "nbformat": 4,
 "nbformat_minor": 5
}
