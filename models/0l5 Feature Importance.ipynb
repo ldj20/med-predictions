{
 "cells": [
  {
   "cell_type": "code",
   "execution_count": null,
   "id": "5764a493",
   "metadata": {},
   "outputs": [],
   "source": [
    "import pickle\n",
    "import csv\n",
    "import pandas as pd\n",
    "import matplotlib.pyplot as plt\n",
    "\n",
    "import seaborn as sns\n",
    "sns.set(style='ticks')\n",
    "sns.set_palette(\"tab10\")\n",
    "sns.set_context('paper')\n",
    "from sklearn.metrics import balanced_accuracy_score, roc_auc_score, confusion_matrix\n",
    "\n",
    "from sklearn.ensemble import RandomForestClassifier\n",
    "import imblearn\n",
    "from imblearn.over_sampling import SMOTE\n",
    "from sklearn.model_selection import train_test_split\n",
    "from sklearn.model_selection import GridSearchCV\n",
    "\n",
    "import os\n",
    "script_dir = os.path.dirname(\"/Users/lawrencejiang/Pub-Predictor/metrics/export_data/datasets\")\n",
    "\n",
    "years = 5"
   ]
  },
  {
   "cell_type": "code",
   "execution_count": null,
   "id": "3ad115a2",
   "metadata": {},
   "outputs": [],
   "source": [
    "post_year = 0\n",
    "label_year = 5\n",
    "\n",
    "export_X_test = f\"p{post_year}l{label_year}X_test.pickle\"\n",
    "export_y_test = f\"p{post_year}l{label_year}X_test.pickle\"\n",
    "export_X_path = os.path.join(script_dir, export_X_test)\n",
    "export_y_path = os.path.join(script_dir, export_y_test)\n",
    "\n",
    "X_test = pickle.load(open(export_X_path, \"rb\"))\n",
    "y_test = pickle.load(open(export_y_path, \"rb\"))"
   ]
  },
  {
   "cell_type": "code",
   "execution_count": null,
   "id": "6abac3cb",
   "metadata": {},
   "outputs": [],
   "source": [
    "model_path = os.path.join(script_dir, f\"modelp{post_year}l{label_year}.pickle\")\n",
    "m = pickle.load(open(model_path, \"rb\"))"
   ]
  },
  {
   "cell_type": "code",
   "execution_count": null,
   "id": "0c6ddfd5",
   "metadata": {},
   "outputs": [],
   "source": [
    "import time\n",
    "\n",
    "import numpy as np\n",
    "\n",
    "start_time = time.time()\n",
    "importances = m.feature_importances_\n",
    "std = np.std([tree.feature_importances_ for tree in m.estimators_], axis=0)\n",
    "elapsed_time = time.time() - start_time\n",
    "\n",
    "print(f\"Elapsed time to compute the importances: {elapsed_time:.3f} seconds\")"
   ]
  },
  {
   "cell_type": "code",
   "execution_count": null,
   "id": "044222e2",
   "metadata": {},
   "outputs": [],
   "source": [
    "import pandas as pd\n",
    "\n",
    "fig = plt.figure(figsize =(15, 10.5))\n",
    "\n",
    "feature_names = [f\"feature {i}\" for i in range(X_test.shape[1])]\n",
    "\n",
    "forest_importances = pd.Series(importances, index=feature_names)\n",
    "\n",
    "fig, ax = plt.subplots()\n",
    "#fig = plt.figure(figsize =(15, 10.5))\n",
    "forest_importances.plot.bar(yerr=std, ax=ax)\n",
    "ax.set_title(\"Feature importances using MDI\")\n",
    "ax.set_ylabel(\"Mean decrease in impurity\")\n",
    "fig.tight_layout()"
   ]
  },
  {
   "cell_type": "code",
   "execution_count": null,
   "id": "0df2ac5b",
   "metadata": {},
   "outputs": [],
   "source": [
    "def Nmaxelements(list1, N):\n",
    "    final_list = []\n",
    "    index_list = []\n",
    " \n",
    "    for i in range(0, N):\n",
    "        max1 = 0\n",
    "        index1 = 0\n",
    "         \n",
    "        for j in range(len(list1)):    \n",
    "            if (list1[j]) > max1:\n",
    "                max1 = list1[j];\n",
    "                index1 = j\n",
    "                \n",
    "                 \n",
    "        list1.remove(max1);\n",
    "        final_list.append(max1)\n",
    "        index_list.append(index1)\n",
    "\n",
    "         \n",
    "    return(final_list, index_list)"
   ]
  },
  {
   "cell_type": "code",
   "execution_count": null,
   "id": "b5f0dfd0",
   "metadata": {},
   "outputs": [],
   "source": [
    "cols = list(X_test.columns)"
   ]
  },
  {
   "cell_type": "code",
   "execution_count": null,
   "id": "61c5dbd5",
   "metadata": {},
   "outputs": [],
   "source": [
    "X_test"
   ]
  },
  {
   "cell_type": "code",
   "execution_count": null,
   "id": "c50baf42",
   "metadata": {},
   "outputs": [],
   "source": [
    "importances"
   ]
  },
  {
   "cell_type": "code",
   "execution_count": null,
   "id": "b5ebc992",
   "metadata": {},
   "outputs": [],
   "source": [
    "importance_abs = list(map(abs, importances))\n",
    "\n",
    "\n",
    "dub, indices = Nmaxelements(importance_abs, 10)\n",
    "\n",
    "dub"
   ]
  },
  {
   "cell_type": "code",
   "execution_count": null,
   "id": "b56bdf29",
   "metadata": {},
   "outputs": [],
   "source": [
    "indices"
   ]
  },
  {
   "cell_type": "code",
   "execution_count": null,
   "id": "2f01739a",
   "metadata": {},
   "outputs": [],
   "source": [
    "for i in indices:\n",
    "    print(cols[i])"
   ]
  },
  {
   "cell_type": "code",
   "execution_count": null,
   "id": "1e33fce4",
   "metadata": {},
   "outputs": [],
   "source": [
    "#compare sum of top rescaled importances to the next (4*number of rescaled) variable importances\n",
    "num_rescaled = 1\n",
    "print(sum(dub[:num_rescaled]))\n",
    "print(sum(dub[num_rescaled:num_rescaled+4*num_rescaled]))"
   ]
  },
  {
   "cell_type": "code",
   "execution_count": null,
   "id": "2731bfea",
   "metadata": {},
   "outputs": [],
   "source": [
    "#plotting the features and their score\n",
    "sns.set_style(\"darkgrid\")\n",
    "plt.bar([i for i in range (len(importances))],importances)\n",
    "\n",
    "plt.title(\"Variable Importance Score vs Feature Number\")\n",
    "plt.xlabel(\"Feature Number\")\n",
    "plt.ylabel(\"Variable Importance Score\")\n",
    "\n",
    "plt.show()"
   ]
  }
 ],
 "metadata": {
  "kernelspec": {
   "display_name": "Python 3 (ipykernel)",
   "language": "python",
   "name": "python3"
  },
  "language_info": {
   "codemirror_mode": {
    "name": "ipython",
    "version": 3
   },
   "file_extension": ".py",
   "mimetype": "text/x-python",
   "name": "python",
   "nbconvert_exporter": "python",
   "pygments_lexer": "ipython3",
   "version": "3.9.7"
  }
 },
 "nbformat": 4,
 "nbformat_minor": 5
}
